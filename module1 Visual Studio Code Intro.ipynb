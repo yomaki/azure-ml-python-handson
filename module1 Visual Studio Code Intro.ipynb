{
 "cells": [
  {
   "cell_type": "markdown",
   "metadata": {},
   "source": [
    "# Module1: Visual Studio Code 入門\n",
    "このモジュールでは、Visual Studio Code の簡単な紹介と、Python の実行を実演します。\n",
    "10分\n",
    "\n",
    "# Visual Studio Code の準備\n",
    "[MS Learn](https://docs.microsoft.com/ja-jp/learn/modules/python-install-vscode/) に学習コンテンツがございます。\n",
    "今回ご紹介する手順は上記のモジュールを基に作成しています。\n",
    "また、Python の基本的な文法を理解しており、機械学習ライブラリを使った経験がある方を対象にしていますので、Python 自体のセットアップには触れません。\n",
    "\n",
    "## VS Code の導入\n",
    "お使いの環境に合わせて、[ダウンロード](https://code.visualstudio.com/)し、インストールしてください。\n",
    "\n",
    "## VS Code 拡張機能\n",
    "左側の拡張機能から様々な機能を追加することができます。\n",
    "今回は Python の開発・実行を実演しますので、Python の拡張を install しましょう。\n",
    "\n",
    "## Azure Command-Line Interface(CLI)\n",
    "また、Azure 環境との相性を最大限活用する場合、Azure CLI が必須になります。\n",
    "例えば Azure Machine Learning のワークスペースを作成したり、コンピューティングリソースを作成することもできます。\n",
    "CLI のセットアップ、サインインなど多少手続きが必要ですので、今回は実演しませんのでご了承ください。\n",
    "\n",
    "# Python のデモ\n",
    "まずは VS Code の学習モジュールにある、*hello.py* を作成してみます。\n",
    "以下のコードではスクリプトを書き出しています。別のタブで開き、エディタとしての機能も確認してみましょう。"
   ]
  },
  {
   "cell_type": "code",
   "execution_count": 1,
   "metadata": {},
   "outputs": [
    {
     "name": "stdout",
     "output_type": "stream",
     "text": [
      "Writing hello.py\n"
     ]
    }
   ],
   "source": [
    "%%writefile hello.py\n",
    "print('Hello, world!')"
   ]
  },
  {
   "cell_type": "markdown",
   "metadata": {},
   "source": [
    "以下のようにスクリプトを実行します。"
   ]
  },
  {
   "cell_type": "code",
   "execution_count": 2,
   "metadata": {},
   "outputs": [
    {
     "name": "stdout",
     "output_type": "stream",
     "text": [
      "Hello, world!\n"
     ]
    }
   ],
   "source": [
    "!python hello.py"
   ]
  },
  {
   "cell_type": "markdown",
   "metadata": {},
   "source": [
    "# Module2 をローカルで実装\n",
    "\n",
    "Module2 では Azure の環境を最大限活用しています。\n",
    "ローカルの環境では全て再現できませんので、scikit-learn の機能に限定して再現しています。\n",
    "\n",
    "## 準備\n",
    "必要なモジュールを読み込みます。お使いの環境に scikit-learn がインストールされていることを確認してください。"
   ]
  },
  {
   "cell_type": "code",
   "execution_count": 4,
   "metadata": {},
   "outputs": [
    {
     "name": "stderr",
     "output_type": "stream",
     "text": [
      "/Users/ymaki/.pyenv/versions/3.8.9/envs/sandbox_vscode/lib/python3.8/site-packages/pandas/compat/__init__.py:97: UserWarning: Could not import the lzma module. Your installed Python is incomplete. Attempting to use lzma compression will result in a RuntimeError.\n",
      "  warnings.warn(msg)\n"
     ]
    }
   ],
   "source": [
    "import pandas as pd\n",
    "import numpy as np\n",
    "\n",
    "from sklearn.model_selection import train_test_split\n",
    "from sklearn.linear_model import LogisticRegression\n",
    "from sklearn.metrics import roc_auc_score\n",
    "from sklearn.metrics import roc_curve"
   ]
  },
  {
   "cell_type": "markdown",
   "metadata": {},
   "source": [
    "## データ読み込み\n",
    "スクリプトの引数として実装しているハイパーパラメータは、変数として与えます。"
   ]
  },
  {
   "cell_type": "code",
   "execution_count": 7,
   "metadata": {},
   "outputs": [
    {
     "name": "stdout",
     "output_type": "stream",
     "text": [
      "Loading Data...\n"
     ]
    }
   ],
   "source": [
    "reg = 0.01\n",
    "\n",
    "# load the diabetes dataset\n",
    "print(\"Loading Data...\")\n",
    "# load the diabetes dataset\n",
    "diabetes = pd.read_csv('data/diabetes.csv')\n"
   ]
  },
  {
   "cell_type": "markdown",
   "metadata": {},
   "source": [
    "## モデルの学習\n",
    "ここから scikit-learn の機能を使い、モデルを学習します。Module2 では **run.log()** と言うコードが随所に現れますが、ここでは再現できないため外しています。\n",
    "この log によってメトリックを保存したり、様々な情報を Azure 上で管理することができるようになります。"
   ]
  },
  {
   "cell_type": "code",
   "execution_count": 8,
   "metadata": {},
   "outputs": [
    {
     "name": "stdout",
     "output_type": "stream",
     "text": [
      "Training a logistic regression model with regularization rate of 0.01\n",
      "Accuracy: 0.774\n",
      "AUC: 0.848486491865267\n"
     ]
    }
   ],
   "source": [
    "# Separate features and labels\n",
    "X, y = diabetes[['Pregnancies','PlasmaGlucose','DiastolicBloodPressure','TricepsThickness','SerumInsulin','BMI','DiabetesPedigree','Age']].values, diabetes['Diabetic'].values\n",
    "\n",
    "# Split data into training set and test set\n",
    "X_train, X_test, y_train, y_test = train_test_split(X, y, test_size=0.30, random_state=0)\n",
    "\n",
    "# Train a logistic regression model\n",
    "print('Training a logistic regression model with regularization rate of', reg)\n",
    "model = LogisticRegression(C=1/reg, solver=\"liblinear\").fit(X_train, y_train)\n",
    "\n",
    "# calculate accuracy\n",
    "y_hat = model.predict(X_test)\n",
    "acc = np.average(y_hat == y_test)\n",
    "print('Accuracy:', acc)\n",
    "\n",
    "# calculate AUC\n",
    "y_scores = model.predict_proba(X_test)\n",
    "auc = roc_auc_score(y_test,y_scores[:,1])\n",
    "print('AUC: ' + str(auc))\n"
   ]
  },
  {
   "cell_type": "code",
   "execution_count": null,
   "metadata": {},
   "outputs": [],
   "source": []
  }
 ],
 "metadata": {
  "interpreter": {
   "hash": "20bf69066c0dd38d51965b69d5e1b6e387082e3198ba56e97997ac55f4e50ad0"
  },
  "kernelspec": {
   "display_name": "Python 3.8.2 64-bit ('usr')",
   "name": "python3"
  },
  "language_info": {
   "codemirror_mode": {
    "name": "ipython",
    "version": 3
   },
   "file_extension": ".py",
   "mimetype": "text/x-python",
   "name": "python",
   "nbconvert_exporter": "python",
   "pygments_lexer": "ipython3",
   "version": "3.8.9"
  }
 },
 "nbformat": 4,
 "nbformat_minor": 5
}